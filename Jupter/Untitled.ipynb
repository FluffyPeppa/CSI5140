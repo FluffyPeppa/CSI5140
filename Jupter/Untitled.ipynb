{
 "cells": [
  {
   "cell_type": "code",
   "execution_count": 22,
   "metadata": {},
   "outputs": [
    {
     "data": {
      "text/plain": [
       "0    390\n",
       "1     12\n",
       "Name: FALL, dtype: int64"
      ]
     },
     "execution_count": 22,
     "metadata": {},
     "output_type": "execute_result"
    }
   ],
   "source": [
    "import pandas as pd\n",
    "import numpy as np\n",
    "from sklearn.preprocessing import OneHotEncoder,MinMaxScaler, KBinsDiscretizer, LabelEncoder\n",
    "from sklearn.model_selection import cross_val_score\n",
    "from sklearn.linear_model import LinearRegression\n",
    "from sklearn.tree import DecisionTreeRegressor\n",
    "import matplotlib.pyplot as plt\n",
    "\n",
    "data = pd.read_csv(\"newfall.csv\", thousands=',', low_memory=False)\n",
    "data[\"FALL\"] = LabelEncoder().fit_transform(data[\"FALL\"])\n",
    "data[\"FALL\"].value_counts()"
   ]
  },
  {
   "cell_type": "code",
   "execution_count": 23,
   "metadata": {},
   "outputs": [
    {
     "name": "stdout",
     "output_type": "stream",
     "text": [
      "['Ax', 'Ay', 'Az', 'Gx', 'Gy', 'Gz', 'Pressure', 'Temperature']\n"
     ]
    }
   ],
   "source": [
    "y = data[\"FALL\"]\n",
    "X = data.drop(\"FALL\", axis=1)\n",
    "\n",
    "X = pd.DataFrame(X)\n",
    "feature_names = list(X.columns.values)\n",
    "print(feature_names)"
   ]
  },
  {
   "cell_type": "code",
   "execution_count": 24,
   "metadata": {},
   "outputs": [
    {
     "data": {
      "text/html": [
       "<div>\n",
       "<style scoped>\n",
       "    .dataframe tbody tr th:only-of-type {\n",
       "        vertical-align: middle;\n",
       "    }\n",
       "\n",
       "    .dataframe tbody tr th {\n",
       "        vertical-align: top;\n",
       "    }\n",
       "\n",
       "    .dataframe thead th {\n",
       "        text-align: right;\n",
       "    }\n",
       "</style>\n",
       "<table border=\"1\" class=\"dataframe\">\n",
       "  <thead>\n",
       "    <tr style=\"text-align: right;\">\n",
       "      <th></th>\n",
       "      <th>Ax</th>\n",
       "      <th>Ay</th>\n",
       "      <th>Az</th>\n",
       "      <th>Gx</th>\n",
       "      <th>Gy</th>\n",
       "      <th>Gz</th>\n",
       "      <th>Pressure</th>\n",
       "      <th>Temperature</th>\n",
       "    </tr>\n",
       "  </thead>\n",
       "  <tbody>\n",
       "    <tr>\n",
       "      <th>0</th>\n",
       "      <td>-0.079951</td>\n",
       "      <td>0.252632</td>\n",
       "      <td>-0.302326</td>\n",
       "      <td>-0.008927</td>\n",
       "      <td>-0.034086</td>\n",
       "      <td>-0.197864</td>\n",
       "      <td>0.055829</td>\n",
       "      <td>-1.0</td>\n",
       "    </tr>\n",
       "    <tr>\n",
       "      <th>1</th>\n",
       "      <td>-0.068143</td>\n",
       "      <td>0.255921</td>\n",
       "      <td>-0.305102</td>\n",
       "      <td>0.032761</td>\n",
       "      <td>-0.037656</td>\n",
       "      <td>0.131682</td>\n",
       "      <td>-0.429195</td>\n",
       "      <td>-1.0</td>\n",
       "    </tr>\n",
       "    <tr>\n",
       "      <th>2</th>\n",
       "      <td>-0.060763</td>\n",
       "      <td>0.261184</td>\n",
       "      <td>-0.311350</td>\n",
       "      <td>0.031724</td>\n",
       "      <td>-0.055244</td>\n",
       "      <td>0.130883</td>\n",
       "      <td>-0.373230</td>\n",
       "      <td>-1.0</td>\n",
       "    </tr>\n",
       "    <tr>\n",
       "      <th>3</th>\n",
       "      <td>-0.058795</td>\n",
       "      <td>0.269737</td>\n",
       "      <td>-0.325928</td>\n",
       "      <td>0.029923</td>\n",
       "      <td>-0.059074</td>\n",
       "      <td>0.135304</td>\n",
       "      <td>-0.466503</td>\n",
       "      <td>-1.0</td>\n",
       "    </tr>\n",
       "    <tr>\n",
       "      <th>4</th>\n",
       "      <td>-0.046986</td>\n",
       "      <td>0.261184</td>\n",
       "      <td>-0.326623</td>\n",
       "      <td>0.031083</td>\n",
       "      <td>-0.060424</td>\n",
       "      <td>0.144994</td>\n",
       "      <td>-0.559777</td>\n",
       "      <td>-1.0</td>\n",
       "    </tr>\n",
       "  </tbody>\n",
       "</table>\n",
       "</div>"
      ],
      "text/plain": [
       "         Ax        Ay        Az        Gx        Gy        Gz  Pressure  \\\n",
       "0 -0.079951  0.252632 -0.302326 -0.008927 -0.034086 -0.197864  0.055829   \n",
       "1 -0.068143  0.255921 -0.305102  0.032761 -0.037656  0.131682 -0.429195   \n",
       "2 -0.060763  0.261184 -0.311350  0.031724 -0.055244  0.130883 -0.373230   \n",
       "3 -0.058795  0.269737 -0.325928  0.029923 -0.059074  0.135304 -0.466503   \n",
       "4 -0.046986  0.261184 -0.326623  0.031083 -0.060424  0.144994 -0.559777   \n",
       "\n",
       "   Temperature  \n",
       "0         -1.0  \n",
       "1         -1.0  \n",
       "2         -1.0  \n",
       "3         -1.0  \n",
       "4         -1.0  "
      ]
     },
     "execution_count": 24,
     "metadata": {},
     "output_type": "execute_result"
    }
   ],
   "source": [
    "min_max_scaler = MinMaxScaler(feature_range=(-1,1))\n",
    "data_scale = min_max_scaler.fit_transform(X)\n",
    "X = pd.DataFrame(data_scale)\n",
    "\n",
    "feature_dict = {}\n",
    "for i in range(len(feature_names)):\n",
    "    feature_dict[i] = feature_names[i]\n",
    "X = X.rename(columns=feature_dict)\n",
    "X.head()"
   ]
  },
  {
   "cell_type": "code",
   "execution_count": 25,
   "metadata": {},
   "outputs": [
    {
     "name": "stdout",
     "output_type": "stream",
     "text": [
      "After OverSampling, counts of label '1': 390\n",
      "After OverSampling, counts of label '0': 390\n",
      "-------------------------------------------------------------\n"
     ]
    }
   ],
   "source": [
    "from imblearn.over_sampling import SMOTE\n",
    "sm = SMOTE(random_state=2)\n",
    "X_over, y_over = sm.fit_sample(X, y)\n",
    "print(\"After OverSampling, counts of label '1': {}\".format(sum(y_over==1)))\n",
    "print(\"After OverSampling, counts of label '0': {}\".format(sum(y_over==0)))\n",
    "print(\"-------------------------------------------------------------\")"
   ]
  },
  {
   "cell_type": "code",
   "execution_count": 28,
   "metadata": {},
   "outputs": [
    {
     "name": "stdout",
     "output_type": "stream",
     "text": [
      "Tree-based Model:\n",
      "+-----------+----------+-------------------+----------------+\n",
      "|     id    | accuracy | precision of fall | recall of fall |\n",
      "+-----------+----------+-------------------+----------------+\n",
      "|     1     |  0.974   |       1.000       |     0.949      |\n",
      "|     2     |  1.000   |       1.000       |     1.000      |\n",
      "|     3     |  0.974   |       0.951       |     1.000      |\n",
      "|     4     |  0.692   |       0.623       |     0.974      |\n",
      "|     5     |  1.000   |       1.000       |     1.000      |\n",
      "|     6     |  0.987   |       1.000       |     0.974      |\n",
      "|     7     |  0.987   |       1.000       |     0.974      |\n",
      "|     8     |  0.923   |       0.867       |     1.000      |\n",
      "|     9     |  0.577   |       0.542       |     1.000      |\n",
      "|     10    |  0.885   |       0.841       |     0.949      |\n",
      "|  Average  |  0.900   |       0.882       |     0.982      |\n",
      "+-----------+----------+-------------------+----------------+\n",
      "Linear-based Model:\n",
      "+-----------+----------+-------------------+----------------+\n",
      "|     id    | accuracy | precision of fall | recall of fall |\n",
      "+-----------+----------+-------------------+----------------+\n",
      "|     1     |  0.936   |       0.947       |     0.923      |\n",
      "|     2     |  0.692   |       1.000       |     0.385      |\n",
      "|     3     |  0.654   |       0.594       |     0.974      |\n",
      "|     4     |  0.654   |       0.611       |     0.846      |\n",
      "|     5     |  0.910   |       1.000       |     0.821      |\n",
      "|     6     |  0.821   |       0.838       |     0.795      |\n",
      "|     7     |  0.756   |       0.778       |     0.718      |\n",
      "|     8     |  0.333   |       0.397       |     0.641      |\n",
      "|     9     |  0.526   |       0.514       |     0.949      |\n",
      "|     10    |  0.513   |       0.509       |     0.692      |\n",
      "|  Average  |  0.679   |       0.719       |     0.774      |\n",
      "+-----------+----------+-------------------+----------------+\n"
     ]
    }
   ],
   "source": [
    "from sklearn.metrics.scorer import make_scorer\n",
    "from sklearn.metrics import recall_score\n",
    "from sklearn.metrics import accuracy_score\n",
    "from sklearn.metrics import precision_score\n",
    "from sklearn.model_selection import cross_val_predict\n",
    "from sklearn import tree\n",
    "from sklearn import linear_model\n",
    "\n",
    "\n",
    "def cv_train_test_split(X, y):\n",
    "    X_Train, Y_Train, X_Test, Y_Test = [], [], [], []\n",
    "    from sklearn.model_selection import StratifiedKFold\n",
    "    skf = StratifiedKFold(n_splits=10)\n",
    "    for train_index, test_index in skf.split(X, y):\n",
    "            X_train, X_test = X[train_index], X[test_index]\n",
    "            y_train, y_test = y[train_index], y[test_index]\n",
    "            X_Train.append(X_train)\n",
    "            X_Test.append(X_test)\n",
    "            Y_Train.append(y_train)\n",
    "            Y_Test.append(y_test)\n",
    "    return X_Train, Y_Train, X_Test, Y_Test\n",
    "\n",
    "feature_train, label_train, feature_test, label_test = cv_train_test_split(X_over, y_over)\n",
    "\n",
    "def model(m, feature_train, label_train, feature_test, label_test, X_und, y_und):\n",
    "        if m == \"linear\":\n",
    "            lin_cla  = linear_model.SGDClassifier(loss='modified_huber', penalty='elasticnet', alpha=1e-4, \n",
    "                                              random_state=42, shuffle=True, n_jobs=None)\n",
    "            print(\"Linear-based Model:\")\n",
    "            printScore(lin_cla, feature_train, label_train, feature_test, label_test)\n",
    "        elif m == \"tree\": \n",
    "            tree_cla = tree.DecisionTreeClassifier(criterion = \"entropy\")\n",
    "            print(\"Tree-based Model:\")\n",
    "            printScore(tree_cla, feature_train, label_train, feature_test, label_test)\n",
    "\n",
    "\n",
    "        \n",
    "def printScore(model, feature_train, label_train, feature_test, label_test):\n",
    "        from prettytable import PrettyTable\n",
    "        t = PrettyTable(['id', 'accuracy', 'precision of fall', 'recall of fall'])\n",
    "        sum_acc, sum_pre, sum_rec = 0,0,0\n",
    "        for i in range(10):\n",
    "            model.fit(feature_train[i], label_train[i])\n",
    "            y_pred = model.predict(feature_test[i])\n",
    "            acc = accuracy_score(label_test[i], y_pred)\n",
    "            pre = precision_score(label_test[i], y_pred, average = None, labels=[1])\n",
    "            rec = recall_score(label_test[i], y_pred, average = None, labels=[1])\n",
    "            t.add_row([i+1, '{0:.3f}'.format(float(acc)), '{0:.3f}'.format(float(pre)), '{0:.3f}'.format(float(rec))])\n",
    "            sum_acc += float(acc)\n",
    "            sum_pre += float(pre)\n",
    "            sum_rec += float(rec)\n",
    "        avg_acc = sum_acc/10\n",
    "        avg_pre = sum_pre/10\n",
    "        avg_rec = sum_rec/10\n",
    "        t.add_row([\" Average \", '{0:.3f}'.format(avg_acc), '{0:.3f}'.format(avg_pre), '{0:.3f}'.format(avg_rec)])\n",
    "        print(t)\n",
    "\n",
    "model(\"tree\", feature_train, label_train, feature_test, label_test, X_over, y_over)\n",
    "# model(\"linear\", feature_train, label_train, feature_test, label_test, X_over, y_over)"
   ]
  },
  {
   "cell_type": "code",
   "execution_count": null,
   "metadata": {},
   "outputs": [],
   "source": []
  }
 ],
 "metadata": {
  "kernelspec": {
   "display_name": "Python 3",
   "language": "python",
   "name": "python3"
  },
  "language_info": {
   "codemirror_mode": {
    "name": "ipython",
    "version": 3
   },
   "file_extension": ".py",
   "mimetype": "text/x-python",
   "name": "python",
   "nbconvert_exporter": "python",
   "pygments_lexer": "ipython3",
   "version": "3.7.3"
  }
 },
 "nbformat": 4,
 "nbformat_minor": 2
}
